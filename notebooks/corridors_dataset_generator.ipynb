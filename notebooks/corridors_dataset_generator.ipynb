{
 "cells": [
  {
   "cell_type": "markdown",
   "metadata": {},
   "source": [
    "# Corridors Dataset Generator"
   ]
  },
  {
   "cell_type": "markdown",
   "metadata": {},
   "source": [
    "The following code generates the Corridors Dataset. \n",
    "\n",
    "---\n",
    "\n",
    "The Corridors dataset consists of $200.000$ black and white 13x13 images. Each image is divided into two sections, upper and lower, by an horizontal white line of width 1 pixel. Each section includes a vertical noisy \"corridor\", i.e., a white vertical core segment with white random pixels around it. The white random pixels are independent samples of a Bernoulli distribution $f(g(x;\\mu, \\sigma))$, where $g(x;\\mu, \\sigma)$ is a Gaussian probability density function with standard deviation $\\sigma=1.2$ and mean $\\mu$ equal to the position of the vertical core segment. The position of the vertical core segment, also referred to as the position of the corridor, is an integer number ranging from 0 to 12, since each corridor can slide horizontally from pixel 0 to pixel 12 across images. Thus, each image is associated with two labels, $(x_{UC}, x_{LC})$, where $x_{UC}$ denotes the position of the upper corridor and $x_{LC}$ denotes the position of the lower corridor. The positions of the upper and lower corridors represent the two orthogonal factors of variation of the dataset\n",
    "\n",
    "---\n",
    "\n",
    "The code saves the dataset as csv file where each row is a image and the columns are the pixels (169) of that image. The number of columns is 171 ( = 13x13 +2) columns, because the last two columns represent the labels $x_{UC}$ and $x_{LC}$, respectively."
   ]
  },
  {
   "cell_type": "code",
   "execution_count": 16,
   "metadata": {},
   "outputs": [],
   "source": [
    "import numpy as np\n",
    "import pandas as pd\n",
    "import scipy.stats as ss\n",
    "\n",
    "def GenMapTwoCorridors(top_corr_mean, bot_corr_mean, n_rows=13, n_cols=13):\n",
    "    rows = []\n",
    "    for i,mean in enumerate([top_corr_mean, bot_corr_mean]):\n",
    "        mu = float(mean)\n",
    "        sigma = 1.2\n",
    "        ps = ss.norm(mu,sigma).pdf(np.linspace(0, n_cols-1, n_cols))\n",
    "        ps = ps/ps.max()\n",
    "\n",
    "        cols = []\n",
    "        for p in ps:\n",
    "            cols.append(np.random.binomial(1, p, size=int((n_rows-1)/2)))\n",
    "\n",
    "        if np.size(rows) == 0:\n",
    "            rows = np.array(cols).T\n",
    "        else:\n",
    "            rows = np.vstack([rows, np.array(cols).T])\n",
    "\n",
    "        if i==0:\n",
    "            rows = np.vstack([rows, np.ones((1, n_cols), dtype=int)])\n",
    "\n",
    "    rows = 1 - np.array(rows)\n",
    "    return rows"
   ]
  },
  {
   "cell_type": "code",
   "execution_count": 17,
   "metadata": {},
   "outputs": [
    {
     "name": "stdout",
     "output_type": "stream",
     "text": [
      "0\n"
     ]
    }
   ],
   "source": [
    "nSamples = 1000\n",
    "\n",
    "ds = []\n",
    "Is = []\n",
    "Js = []\n",
    "\n",
    "l = 13\n",
    "\n",
    "for n in range(nSamples):\n",
    "    if(n%50000==0):\n",
    "        print(n)\n",
    "\n",
    "    i = np.random.randint(0,l)\n",
    "    j = np.random.randint(0,l)\n",
    "\n",
    "    Is.append(i)\n",
    "    Js.append(j)\n",
    "    \n",
    "    rows = list(GenMapTwoCorridors(i,j).flatten())\n",
    "    rows.append(i)\n",
    "    rows.append(j)\n",
    "\n",
    "    ds.append(rows[:])"
   ]
  },
  {
   "cell_type": "code",
   "execution_count": 36,
   "metadata": {},
   "outputs": [
    {
     "data": {
      "image/png": "[encoded data removed]",
      "text/plain": [
       "<Figure size 640x480 with 1 Axes>"
      ]
     },
     "metadata": {},
     "output_type": "display_data"
    }
   ],
   "source": [
    "import matplotlib.pyplot as plt\n",
    "\n",
    "sample = ds[0][:-2]\n",
    "xuc, xlc = ds[0][-2:]\n",
    "\n",
    "\n",
    "plt.imshow(np.array(ds[0][:-2]).reshape(13,13), cmap='binary');\n",
    "plt.title(r'$x_{UC}$:' + f'{xuc}' + r'    $x_{LC}$:' + f'{xlc}')\n",
    "plt.yticks([]);\n",
    "plt.xticks(range(13), range(13));"
   ]
  },
  {
   "cell_type": "code",
   "execution_count": null,
   "metadata": {},
   "outputs": [],
   "source": [
    "# Save as csv\n",
    "# pd.DataFrame(np.array(ds)).to_csv('|mazes.csv', index=False, header=False)"
   ]
  }
 ],
 "metadata": {
  "kernelspec": {
   "display_name": "bvae-env",
   "language": "python",
   "name": "python3"
  },
  "language_info": {
   "codemirror_mode": {
    "name": "ipython",
    "version": 3
   },
   "file_extension": ".py",
   "mimetype": "text/x-python",
   "name": "python",
   "nbconvert_exporter": "python",
   "pygments_lexer": "ipython3",
   "version": "3.10.4"
  }
 },
 "nbformat": 4,
 "nbformat_minor": 2
}
